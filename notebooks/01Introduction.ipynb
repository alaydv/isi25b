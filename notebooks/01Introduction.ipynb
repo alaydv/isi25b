{
  "cells": [
    {
      "cell_type": "markdown",
      "metadata": {
        "id": "view-in-github",
        "colab_type": "text"
      },
      "source": [
        "<a href=\"https://colab.research.google.com/github/alaydv/isi25b/blob/main/notebooks/01Introduction.ipynb\" target=\"_parent\"><img src=\"https://colab.research.google.com/assets/colab-badge.svg\" alt=\"Open In Colab\"/></a>"
      ]
    },
    {
      "metadata": {
        "id": "ae8cc8fcb8a5a590"
      },
      "cell_type": "markdown",
      "source": [
        "# 01 Introducción a Python para Sistemas de Información\n",
        "\n",
        "### **Objetivo de la Clase**\n",
        "Al finalizar esta sesión, podremos utilizar variables y tipos de datos básicos en Python para modelar y representar una entidad simple (como un estudiante o un producto), sentando las bases para el futuro análisis de datos."
      ],
      "id": "ae8cc8fcb8a5a590"
    },
    {
      "metadata": {
        "id": "367c75b36df5c3"
      },
      "cell_type": "markdown",
      "source": [
        "## 1. El \"Porqué\": Conectando Python con los Sistemas de Información\n",
        "\n",
        "[cite_start]Recordemos los 6 componentes de un Sistema de Información (SI): Hardware, Software, **Datos**, Redes, Personas y Procesos[cite: 1, 2]. Hoy, nos enfocaremos en cómo el **Software** (nuestro código Python) nos permite trabajar con los **Datos**.\n",
        "\n",
        "Un SI almacena datos sobre entidades del mundo real. Por ejemplo, en un sistema académico, una entidad es el \"estudiante\", y esta entidad tiene atributos como `nombre`, `edad` o `carrera`. Python es la herramienta que usaremos para representar y manipular estos datos."
      ],
      "id": "367c75b36df5c3"
    },
    {
      "metadata": {
        "id": "1ab5b8803a1961a9"
      },
      "cell_type": "markdown",
      "source": [
        "## 2. Nuestro Entorno de Trabajo: Jupyter Notebooks\n",
        "\n",
        "Usaremos Jupyter Notebooks, un entorno que nos permite escribir y ejecutar código Python. Es una herramienta estándar en la industria para el análisis de datos y la ciencia de datos.\n",
        "\n",
        "Para ejecutar el código en una celda, puedes presionar el botón de \"Play\" a la izquierda o usar el atajo `Shift + Enter`."
      ],
      "id": "1ab5b8803a1961a9"
    },
    {
      "metadata": {
        "id": "f71b05d81bff4947"
      },
      "cell_type": "code",
      "outputs": [],
      "execution_count": null,
      "source": [],
      "id": "f71b05d81bff4947"
    },
    {
      "metadata": {
        "id": "36d65f35b822a147"
      },
      "cell_type": "markdown",
      "source": [
        "## 3. Bloque 1: Variables y Tipos de Datos - Los \"Contenedores\" de Datos\n",
        "\n",
        "Una **variable** es un espacio en la memoria del computador donde guardamos un dato y le asignamos un nombre para poder referenciarlo. Es como una caja con una etiqueta.\n",
        "\n",
        "```python\n",
        "# Sintaxis: nombre_de_la_variable = valor\n",
        "saludo = \"Hola, Sistemas de Información\""
      ],
      "id": "36d65f35b822a147"
    },
    {
      "cell_type": "code",
      "source": [
        "#Variables con diferentes tipos de datos\n",
        "nombre = \"Erick\" #String\n",
        "edad = 22 #Int\n",
        "estudiante = True #Boolean\n",
        "print(f\"Hola, soy {nombre}, tengo {edad}\")"
      ],
      "metadata": {
        "id": "67VieKOlGmAk",
        "outputId": "47d72c22-739c-4dc0-c74c-661538a1c37f",
        "colab": {
          "base_uri": "https://localhost:8080/"
        }
      },
      "id": "67VieKOlGmAk",
      "execution_count": 8,
      "outputs": [
        {
          "output_type": "stream",
          "name": "stdout",
          "text": [
            "Hola, soy Erick, tengo 22\n"
          ]
        }
      ]
    },
    {
      "cell_type": "code",
      "source": [
        "#Estructuras de Control\n",
        "if estudiante and edad > 21:\n",
        "  print(\"Soy estudiante y tengo mas de 21\")\n",
        "elif estudiante and edad < 20:\n",
        "  print(\"Soy estudiante y tengo menos de 20\")\n",
        "else:\n",
        "  print(\"No soy estudiante\")"
      ],
      "metadata": {
        "id": "fEZZ4wKZHbso",
        "outputId": "98179112-7ecd-4268-d56a-db251e047146",
        "colab": {
          "base_uri": "https://localhost:8080/"
        }
      },
      "id": "fEZZ4wKZHbso",
      "execution_count": 9,
      "outputs": [
        {
          "output_type": "stream",
          "name": "stdout",
          "text": [
            "Soy estudiante y tengo mas de 21\n"
          ]
        }
      ]
    },
    {
      "cell_type": "code",
      "source": [
        "#Listas y dicionarios\n",
        "#Listas\n",
        "frutas = [\"manzana\", \"pera\", \"uva\", \"kiwi\"]\n",
        "vegetales = [\"zanahoria\", \"espinaca\", \"tomate\", \"apio\"]\n",
        "#Diccionarios\n",
        "listaCompras = {}\n",
        "listaCompras[\"Frutas\"] = frutas\n",
        "listaCompras[\"Vegetales\"] = vegetales"
      ],
      "metadata": {
        "id": "d54FXEwuIgqe"
      },
      "id": "d54FXEwuIgqe",
      "execution_count": 14,
      "outputs": []
    },
    {
      "cell_type": "code",
      "source": [
        "#Muesta de las listas\n",
        "print(frutas)\n",
        "print(vegetales)"
      ],
      "metadata": {
        "id": "Q9hxdZscIomP",
        "outputId": "14324e7a-04df-496e-daae-2256403cb0c6",
        "colab": {
          "base_uri": "https://localhost:8080/"
        }
      },
      "id": "Q9hxdZscIomP",
      "execution_count": 17,
      "outputs": [
        {
          "output_type": "stream",
          "name": "stdout",
          "text": [
            "['manzana', 'pera', 'uva', 'kiwi']\n",
            "['zanahoria', 'espinaca', 'tomate', 'apio']\n"
          ]
        }
      ]
    },
    {
      "cell_type": "code",
      "source": [
        "#Muestra del diccionario\n",
        "listaCompras"
      ],
      "metadata": {
        "id": "kjvuOPGaJw6I",
        "outputId": "3deab65d-a9ef-4588-9088-764912d18b0c",
        "colab": {
          "base_uri": "https://localhost:8080/"
        }
      },
      "id": "kjvuOPGaJw6I",
      "execution_count": 18,
      "outputs": [
        {
          "output_type": "execute_result",
          "data": {
            "text/plain": [
              "{'Frutas': ['manzana', 'pera', 'uva', 'kiwi'],\n",
              " 'Vegetales': ['zanahoria', 'espinaca', 'tomate', 'apio']}"
            ]
          },
          "metadata": {},
          "execution_count": 18
        }
      ]
    },
    {
      "cell_type": "code",
      "source": [
        "#Ciclos (for)\n",
        "#For para listas\n",
        "for fruta in frutas:\n",
        "  print(fruta)"
      ],
      "metadata": {
        "id": "Pv5VnIeXKPMk",
        "outputId": "d9ff870a-dc62-43dd-c4f1-5745e35e2af1",
        "colab": {
          "base_uri": "https://localhost:8080/"
        }
      },
      "id": "Pv5VnIeXKPMk",
      "execution_count": 19,
      "outputs": [
        {
          "output_type": "stream",
          "name": "stdout",
          "text": [
            "manzana\n",
            "pera\n",
            "uva\n",
            "kiwi\n"
          ]
        }
      ]
    },
    {
      "cell_type": "code",
      "source": [
        "#For para diccionarios\n",
        "#For para llaves\n",
        "print(\"Impresion de llaves\")\n",
        "for key in listaCompras.keys():\n",
        "  print(key)\n",
        "\n",
        "#For para valores\n",
        "print(\"Impresion de valores\")\n",
        "for value in listaCompras.values():\n",
        "  print(value)\n",
        "\n",
        "#For para llave-valor\n",
        "print(\"Impresion de llaves y valores\")\n",
        "for key, value in listaCompras.items():\n",
        "  print(key, value)"
      ],
      "metadata": {
        "id": "pluNPBrcKyWM",
        "outputId": "c7e08d58-eb5d-4021-8dd8-96809e09aeff",
        "colab": {
          "base_uri": "https://localhost:8080/"
        }
      },
      "id": "pluNPBrcKyWM",
      "execution_count": 25,
      "outputs": [
        {
          "output_type": "stream",
          "name": "stdout",
          "text": [
            "Impresion de llaves\n",
            "Frutas\n",
            "Vegetales\n",
            "Impresion de valores\n",
            "['manzana', 'pera', 'uva', 'kiwi']\n",
            "['zanahoria', 'espinaca', 'tomate', 'apio']\n",
            "Impresion de llaves y valores\n",
            "Frutas ['manzana', 'pera', 'uva', 'kiwi']\n",
            "Vegetales ['zanahoria', 'espinaca', 'tomate', 'apio']\n"
          ]
        }
      ]
    },
    {
      "cell_type": "code",
      "source": [],
      "metadata": {
        "id": "RypGk5iuLPd_"
      },
      "id": "RypGk5iuLPd_",
      "execution_count": null,
      "outputs": []
    }
  ],
  "metadata": {
    "kernelspec": {
      "display_name": "Python 3",
      "language": "python",
      "name": "python3"
    },
    "language_info": {
      "codemirror_mode": {
        "name": "ipython",
        "version": 2
      },
      "file_extension": ".py",
      "mimetype": "text/x-python",
      "name": "python",
      "nbconvert_exporter": "python",
      "pygments_lexer": "ipython2",
      "version": "2.7.6"
    },
    "colab": {
      "provenance": [],
      "include_colab_link": true
    }
  },
  "nbformat": 4,
  "nbformat_minor": 5
}
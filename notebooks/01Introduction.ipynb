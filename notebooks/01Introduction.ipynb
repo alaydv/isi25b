{
 "cells": [
  {
   "metadata": {},
   "cell_type": "markdown",
   "source": [
    "# 01 Introducción a Python para Sistemas de Información\n",
    "\n",
    "### **Objetivo de la Clase**\n",
    "Al finalizar esta sesión, podremos utilizar variables y tipos de datos básicos en Python para modelar y representar una entidad simple (como un estudiante o un producto), sentando las bases para el futuro análisis de datos."
   ],
   "id": "ae8cc8fcb8a5a590"
  },
  {
   "metadata": {},
   "cell_type": "markdown",
   "source": [
    "## 1. El \"Porqué\": Conectando Python con los Sistemas de Información\n",
    "\n",
    "[cite_start]Recordemos los 6 componentes de un Sistema de Información (SI): Hardware, Software, **Datos**, Redes, Personas y Procesos[cite: 1, 2]. Hoy, nos enfocaremos en cómo el **Software** (nuestro código Python) nos permite trabajar con los **Datos**.\n",
    "\n",
    "Un SI almacena datos sobre entidades del mundo real. Por ejemplo, en un sistema académico, una entidad es el \"estudiante\", y esta entidad tiene atributos como `nombre`, `edad` o `carrera`. Python es la herramienta que usaremos para representar y manipular estos datos."
   ],
   "id": "367c75b36df5c3"
  },
  {
   "metadata": {},
   "cell_type": "markdown",
   "source": [
    "## 2. Nuestro Entorno de Trabajo: Jupyter Notebooks\n",
    "\n",
    "Usaremos Jupyter Notebooks, un entorno que nos permite escribir y ejecutar código Python. Es una herramienta estándar en la industria para el análisis de datos y la ciencia de datos.\n",
    "\n",
    "Para ejecutar el código en una celda, puedes presionar el botón de \"Play\" a la izquierda o usar el atajo `Shift + Enter`."
   ],
   "id": "1ab5b8803a1961a9"
  },
  {
   "metadata": {},
   "cell_type": "code",
   "outputs": [],
   "execution_count": null,
   "source": "",
   "id": "f71b05d81bff4947"
  },
  {
   "metadata": {},
   "cell_type": "markdown",
   "source": [
    "## 3. Bloque 1: Variables y Tipos de Datos - Los \"Contenedores\" de Datos\n",
    "\n",
    "Una **variable** es un espacio en la memoria del computador donde guardamos un dato y le asignamos un nombre para poder referenciarlo. Es como una caja con una etiqueta.\n",
    "\n",
    "```python\n",
    "# Sintaxis: nombre_de_la_variable = valor\n",
    "saludo = \"Hola, Sistemas de Información\""
   ],
   "id": "36d65f35b822a147"
  }
 ],
 "metadata": {
  "kernelspec": {
   "display_name": "Python 3",
   "language": "python",
   "name": "python3"
  },
  "language_info": {
   "codemirror_mode": {
    "name": "ipython",
    "version": 2
   },
   "file_extension": ".py",
   "mimetype": "text/x-python",
   "name": "python",
   "nbconvert_exporter": "python",
   "pygments_lexer": "ipython2",
   "version": "2.7.6"
  }
 },
 "nbformat": 4,
 "nbformat_minor": 5
}

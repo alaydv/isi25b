{
 "cells": [
  {
   "metadata": {},
   "cell_type": "markdown",
   "source": [
    "# 02 POO en Python para Sistemas de Información\n",
    "\n",
    "### **Objetivo de la Clase**\n",
    "Al finalizar esta sesión, podremos modelar una entidad de negocio (ej. Producto, Cliente) usando el paradigma de POO en Python, aplicando y traduciendo los conceptos de `class`, constructores, atributos y métodos que ya conocemos de Java/C++."
   ],
   "id": "d4c623e0388a140a"
  },
  {
   "metadata": {},
   "cell_type": "markdown",
   "source": [
    "## 1. El \"Porqué\": La POO como Modelo de un Sistema de Información\n",
    "\n",
    "En un Sistema de Información (SI), no solo manejamos \"datos\", sino que modelamos \"entidades\" del mundo real. Estas entidades tienen **atributos** (características) y **comportamientos** (acciones). La POO nos permite encapsular esta lógica.\n",
    "\n",
    "Por ejemplo, un **Cliente** en un sistema bancario es un **objeto** que tiene:\n",
    "* **Atributos:** `nombre`, `cedula`, `saldo`.\n",
    "* **Métodos (Comportamientos):** `depositar()`, `retirar()`, `consultar_saldo()`.\n",
    "\n",
    "Hoy veremos cómo esta idea, implementada con `public class Cliente` en Java, se escribe de forma más ágil en Python."
   ],
   "id": "65233d05e5109ff7"
  },
  {
   "cell_type": "code",
   "execution_count": null,
   "id": "initial_id",
   "metadata": {
    "collapsed": true
   },
   "outputs": [],
   "source": [
    ""
   ]
  },
  {
   "metadata": {},
   "cell_type": "markdown",
   "source": [
    "## 2. Traduciendo de Java a Python: Sintaxis y Diferencias Clave\n",
    "\n",
    "### Declaración de Clases\n",
    "* **Java:** `public class Producto { ... }`\n",
    "* **Python:** `class Producto:` (La indentación reemplaza a las `{}`).\n",
    "\n",
    "### El Inicializador (`__init__`)\n",
    "Es el equivalente más cercano al constructor de Java. Se ejecuta automáticamente al crear un objeto.\n",
    "\n",
    "* **Java (Constructor):** `public Producto(String sku) { this.sku = sku; }`\n",
    "* **Python (Inicializador):** `def __init__(self, sku): self.sku = sku`\n",
    "\n",
    "> **Punto Clave 1: El `self` explícito.**\n",
    "> En Python, `self` es el primer argumento obligatorio en cada método de instancia y se refiere al propio objeto. Es el equivalente explícito del `this` implícito de Java.\n",
    "\n",
    "### Atributos y Métodos\n",
    "* **Atributos:** Se crean y asignan directamente en el `__init__` usando `self`. Python usa **tipificación dinámica**, por lo que no se declara el tipo de dato.\n",
    "* **Métodos:** Funciones definidas dentro de la clase que siempre reciben `self` como primer argumento.\n",
    "\n",
    "```python\n",
    "# Ejemplo de una clase simple en Python\n",
    "class Estudiante:\n",
    "    # El inicializador define los atributos\n",
    "    def __init__(self, nombre, carrera):\n",
    "        self.nombre = nombre\n",
    "        self.carrera = carrera\n",
    "\n",
    "    # Un método que describe al objeto\n",
    "    def describir(self):\n",
    "        print(f\"Soy {self.nombre} y estudio {self.carrera}.\")\n",
    "\n",
    "# Creamos una instancia (un objeto) de la clase Estudiante\n",
    "estudiante1 = Estudiante(\"Alex\", \"Sistemas de Información\")\n",
    "\n",
    "# Llamamos a su método\n",
    "estudiante1.describir()"
   ],
   "id": "493dc77030658d54"
  },
  {
   "metadata": {},
   "cell_type": "code",
   "outputs": [],
   "execution_count": null,
   "source": "",
   "id": "662a75c4b8a9bdce"
  }
 ],
 "metadata": {
  "kernelspec": {
   "display_name": "Python 3",
   "language": "python",
   "name": "python3"
  },
  "language_info": {
   "codemirror_mode": {
    "name": "ipython",
    "version": 2
   },
   "file_extension": ".py",
   "mimetype": "text/x-python",
   "name": "python",
   "nbconvert_exporter": "python",
   "pygments_lexer": "ipython2",
   "version": "2.7.6"
  }
 },
 "nbformat": 4,
 "nbformat_minor": 5
}
